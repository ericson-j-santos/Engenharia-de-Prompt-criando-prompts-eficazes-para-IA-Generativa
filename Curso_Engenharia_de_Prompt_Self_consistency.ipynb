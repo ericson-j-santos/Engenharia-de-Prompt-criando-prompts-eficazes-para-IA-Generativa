{
  "nbformat": 4,
  "nbformat_minor": 0,
  "metadata": {
    "colab": {
      "provenance": [],
      "authorship_tag": "ABX9TyOWKC2gYXD5vWRorBxXzYuI",
      "include_colab_link": true
    },
    "kernelspec": {
      "name": "python3",
      "display_name": "Python 3"
    },
    "language_info": {
      "name": "python"
    }
  },
  "cells": [
    {
      "cell_type": "markdown",
      "metadata": {
        "id": "view-in-github",
        "colab_type": "text"
      },
      "source": [
        "<a href=\"https://colab.research.google.com/github/ericson-j-santos/Engenharia-de-Prompt-criando-prompts-eficazes-para-IA-Generativa/blob/main/Curso_Engenharia_de_Prompt_Self_consistency.ipynb\" target=\"_parent\"><img src=\"https://colab.research.google.com/assets/colab-badge.svg\" alt=\"Open In Colab\"/></a>"
      ]
    },
    {
      "cell_type": "code",
      "execution_count": null,
      "metadata": {
        "id": "hlTB8nBRrEQO"
      },
      "outputs": [],
      "source": [
        "pip install -q openai"
      ]
    },
    {
      "cell_type": "markdown",
      "source": [
        "Depois, importamos a biblioteca e precisamos de uma API para nos identificarmos para a OpenAI. Nós usamos uma API key, que é um valor que identifica quem somos para a OpenAI.\n",
        "\n",
        "Temos a nossa mensagem inicial, que define o papel do modelo. Neste caso, o modelo é um assistente prestativo. Depois, definimos os parâmetros iniciais do ChatGPT, que é o valor mais básico da maioria dos modelos."
      ],
      "metadata": {
        "id": "KJsE_eMJvStT"
      }
    },
    {
      "cell_type": "code",
      "source": [
        "from google.colab import userdata\n",
        "import openai\n",
        "\n",
        "# seta a API key\n",
        "openai.api_key = userdata.get('OPENAI_API_KEY')\n",
        "\n",
        "# Definição de persona do sistema e histórico de mensagens\n",
        "messages = [\n",
        "    {\"role\": \"system\", \"content\": \"Você é um assistente prestativo.\"},  # seta a persona do modelo, se vai ser educado, formal, sarcástico etc.\n",
        "]"
      ],
      "metadata": {
        "id": "IbwE1DQutBrO"
      },
      "execution_count": null,
      "outputs": []
    },
    {
      "cell_type": "markdown",
      "source": [
        "A parte interessante começa quando criamos uma variável chamada answers, que inicialmente está vazia. Vamos supor que faremos a pergunta quatro vezes, então o número de loopings será quatro."
      ],
      "metadata": {
        "id": "4EsUl-QavWEP"
      }
    },
    {
      "cell_type": "code",
      "source": [
        "# SELF-CONSISTENCY\n",
        "answers = []\n",
        "\n",
        "LOOPS = 4\n",
        "\n",
        "prompt = \"\"\"Retorne no final sempre a string 'Resultado: ' com apenas valor do resultado depois dela, nenhuma operação nem pontuação além do valor.\n",
        "\n",
        "Pergunta: Se houver 3 carros no estacionamento e chegarem mais 2 carros, quantos carros estarão no estacionamento?\n",
        "\n",
        "Resposta: Já existem 3 carros no estacionamento. Chegam mais 2. Agora existem 3 + 2 = 5 carros. A resposta é 5.\n",
        "\n",
        "Resultado: 5\n",
        "\n",
        "Pergunta: Os patos de Janet botam 16 ovos por dia. Ela come três no café da manhã todas as manhãs e faz muffins para seus amigos todos os dias utilizando mais quatro. Ela vende o restante por 2 dólares por ovo. Quanto dinheiro ela ganha todos os dias?\n",
        "\n",
        "Resposta:\n",
        "\n",
        "Resultado:\"\"\""
      ],
      "metadata": {
        "id": "MLTCq4jctJu8"
      },
      "execution_count": null,
      "outputs": []
    },
    {
      "cell_type": "markdown",
      "source": [
        "Estamos fazendo a nossa cadeia de pensamento e ensinando o modelo a raciocinar com o exemplo dos carros. A pergunta, a resposta e o resultado do problema dos carros somos nós que estamos fornecendo.\n",
        "\n",
        "Logo abaixo, está o caso real, para o qual queremos uma resposta. Se a Janet tinha 16 ovos, comeu três e usou outros quatro para fazer muffins, sobraram nove. Assim, multiplicando nove ovos por dois dólares, temos 18 dólares.\n",
        "\n",
        "Deixamos a resposta e o resultado em branco para o modelo preencher, seguindo o nosso padrão de Chain of Thoughts. Depois de definir o prompt, colocamos ele dentro de uma variável e essa variável será enviada dentro das mensagens para a OpenAI.\n",
        "\n",
        "Fazemos um for loop, que é basicamente uma repetição. Fazemos uma vez tudo que está dentro do looping, depois fazemos uma segunda vez, depois uma terceira vez, até chegar no número que pedimos para parar.\n",
        "\n",
        "Fazemos a chamada para a OpenAI, pegamos a resposta e adicionamos na lista de respostas (answers). No final, queremos ver qual é o valor mais frequente e quantas vezes ele aparece."
      ],
      "metadata": {
        "id": "EvjoE8kBvcUS"
      }
    },
    {
      "cell_type": "code",
      "source": [
        "messages.append({\"role\": \"user\", \"content\": prompt})  # adiciona sua pergunta no histórico do chat\n",
        "\n",
        "for loop in range(0, LOOPS):\n",
        "    # Chamada à API\n",
        "    response = openai.chat.completions.create(\n",
        "        model = \"gpt-3.5-turbo\",\n",
        "        messages = messages,\n",
        "        max_tokens = 200,\n",
        "        temperature = 1\n",
        "    )\n",
        "\n",
        "    # Extrai a resposta de dentro do JSON de resposta\n",
        "    answer = response.choices[0].message.content\n",
        "    print(f\"### LOOP\", loop, ':\\n')\n",
        "    print(answer)\n",
        "\n",
        "    start_index = answer.find(\"Resultado: \") + len(\"Resultado: \")\n",
        "    if start_index != -1:\n",
        "        number_answer = answer[start_index:].split()[0].rstrip('.')\n",
        "        print(\"Answer:\", number_answer, '\\n------')\n",
        "        answers.append(int(number_answer))  # adiciona a resposta à lista de respostas\n",
        "\n",
        "print(answers, '\\n')"
      ],
      "metadata": {
        "id": "cqB-CEBTtbHC"
      },
      "execution_count": null,
      "outputs": []
    },
    {
      "cell_type": "markdown",
      "source": [
        "Vamos rodar o código e ver como ele funciona na prática. Rodamos o código e vemos que o valor mais frequente é 18, que aparece quatro vezes.\n",
        "\n",
        "Vamos executar mais uma vez o mesmo código. Desta vez, o valor mais frequente é 18, que aparece três vezes. Então, entendemos como funciona a técnica. Poderíamos fazer mais vezes, por exemplo, 10 ou 15 vezes, e pegar o valor mais frequente, se for algo mais importante"
      ],
      "metadata": {
        "id": "oKJxFRTJviAj"
      }
    },
    {
      "cell_type": "markdown",
      "source": [],
      "metadata": {
        "id": "YR5ul1T9vdY2"
      }
    },
    {
      "cell_type": "code",
      "source": [
        "[18, 18, 24, 18]\n",
        "\n"
      ],
      "metadata": {
        "id": "tgNfdzEDvjzf"
      },
      "execution_count": null,
      "outputs": []
    },
    {
      "cell_type": "markdown",
      "source": [
        "O valor mais frequente é 18 que aparece 3 vezes.\n",
        "\n"
      ],
      "metadata": {
        "id": "gXlJG6RkvlFX"
      }
    },
    {
      "cell_type": "markdown",
      "source": [
        "Baseado na ideia de que a maioria das vezes o modelo estará correto, conseguimos obter o resultado. No entanto, esse código não está perfeito, porque às vezes o modelo não retorna exatamente o resultado de dois pontos, ele retorna um texto, e, nessa conversão, se ele pegar um texto vai dar um erro, e não poder comparar texto com número.\n",
        "\n",
        "Mas já serve para explicar como funciona essa técnica de Self-Consistency. Esse código base estará disponível para vocês melhorarem e adaptarem para suas necessidades."
      ],
      "metadata": {
        "id": "4qlIkTxAv2WD"
      }
    }
  ]
}